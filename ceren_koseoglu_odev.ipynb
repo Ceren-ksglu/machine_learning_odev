{
 "cells": [
  {
   "cell_type": "code",
   "execution_count": 6,
   "id": "caf3ea11",
   "metadata": {},
   "outputs": [],
   "source": [
    "import pandas as pd\n",
    "import numpy as np\n",
    "import matplotlib.pyplot as plt\n",
    "from sklearn.linear_model import LinearRegression\n",
    "from sklearn.tree import DecisionTreeRegressor\n",
    "from sklearn.ensemble import RandomForestRegressor\n",
    "from sklearn.metrics import r2_score,mean_absolute_percentage_error\n",
    "\n",
    "df=pd.read_csv(\"heart_disease.csv\",sep=\",\")# heart disease csv dosyamı okuttum ve kütüphaneleri import ettim\n"
   ]
  },
  {
   "cell_type": "code",
   "execution_count": 7,
   "id": "f68c4f9a",
   "metadata": {},
   "outputs": [
    {
     "name": "stdout",
     "output_type": "stream",
     "text": [
      "   Gender  age      education currentSmoker  cigsPerDay  BPMeds  \\\n",
      "0    Male   39   postgraduate             N         0.0     0.0   \n",
      "1  Female   46  primaryschool             N         0.0     0.0   \n",
      "2    Male   48     uneducated             Y        20.0     0.0   \n",
      "3  Female   61       graduate             Y        30.0     0.0   \n",
      "4  Female   46       graduate             Y        23.0     0.0   \n",
      "\n",
      "  prevalentStroke  prevalentHyp  diabetes  totChol  sysBP  diaBP    BMI  \\\n",
      "0              no             0         0    195.0  106.0   70.0  26.97   \n",
      "1              no             0         0    250.0  121.0   81.0  28.73   \n",
      "2              no             0         0    245.0  127.5   80.0  25.34   \n",
      "3              no             1         0    225.0  150.0   95.0  28.58   \n",
      "4              no             0         0    285.0  130.0   84.0  23.10   \n",
      "\n",
      "   heartRate  glucose Heart_ stroke  \n",
      "0       80.0     77.0            No  \n",
      "1       95.0     76.0            No  \n",
      "2       75.0     70.0            No  \n",
      "3       65.0    103.0           yes  \n",
      "4       85.0     85.0            No  \n"
     ]
    }
   ],
   "source": [
    "print(df.head())#csv dosyasının ilk 5 satırını görmek için yazdırdım\n",
    "\n"
   ]
  },
  {
   "cell_type": "code",
   "execution_count": 8,
   "id": "7c16a14f",
   "metadata": {},
   "outputs": [
    {
     "name": "stdout",
     "output_type": "stream",
     "text": [
      "<class 'pandas.core.frame.DataFrame'>\n",
      "RangeIndex: 4238 entries, 0 to 4237\n",
      "Data columns (total 16 columns):\n",
      " #   Column           Non-Null Count  Dtype  \n",
      "---  ------           --------------  -----  \n",
      " 0   Gender           4238 non-null   object \n",
      " 1   age              4238 non-null   int64  \n",
      " 2   education        4133 non-null   object \n",
      " 3   currentSmoker    4238 non-null   object \n",
      " 4   cigsPerDay       4209 non-null   float64\n",
      " 5   BPMeds           4185 non-null   float64\n",
      " 6   prevalentStroke  4238 non-null   object \n",
      " 7   prevalentHyp     4238 non-null   int64  \n",
      " 8   diabetes         4238 non-null   int64  \n",
      " 9   totChol          4188 non-null   float64\n",
      " 10  sysBP            4238 non-null   float64\n",
      " 11  diaBP            4238 non-null   float64\n",
      " 12  BMI              4219 non-null   float64\n",
      " 13  heartRate        4237 non-null   float64\n",
      " 14  glucose          3850 non-null   float64\n",
      " 15  Heart_ stroke    4238 non-null   object \n",
      "dtypes: float64(8), int64(3), object(5)\n",
      "memory usage: 529.9+ KB\n",
      "None\n"
     ]
    }
   ],
   "source": [
    "print(df.info()) #veri setimdeki veriler hakkında bilgi alma için bu kodu kullandım. BOş değer var mı, kaç girdi var"
   ]
  },
  {
   "cell_type": "code",
   "execution_count": 9,
   "id": "05840fda",
   "metadata": {},
   "outputs": [
    {
     "name": "stdout",
     "output_type": "stream",
     "text": [
      "               age   cigsPerDay       BPMeds  prevalentHyp     diabetes  \\\n",
      "count  4238.000000  4209.000000  4185.000000   4238.000000  4238.000000   \n",
      "mean     49.584946     9.003089     0.029630      0.310524     0.025720   \n",
      "std       8.572160    11.920094     0.169584      0.462763     0.158316   \n",
      "min      32.000000     0.000000     0.000000      0.000000     0.000000   \n",
      "25%      42.000000     0.000000     0.000000      0.000000     0.000000   \n",
      "50%      49.000000     0.000000     0.000000      0.000000     0.000000   \n",
      "75%      56.000000    20.000000     0.000000      1.000000     0.000000   \n",
      "max      70.000000    70.000000     1.000000      1.000000     1.000000   \n",
      "\n",
      "           totChol        sysBP        diaBP          BMI    heartRate  \\\n",
      "count  4188.000000  4238.000000  4238.000000  4219.000000  4237.000000   \n",
      "mean    236.721585   132.352407    82.893464    25.802008    75.878924   \n",
      "std      44.590334    22.038097    11.910850     4.080111    12.026596   \n",
      "min     107.000000    83.500000    48.000000    15.540000    44.000000   \n",
      "25%     206.000000   117.000000    75.000000    23.070000    68.000000   \n",
      "50%     234.000000   128.000000    82.000000    25.400000    75.000000   \n",
      "75%     263.000000   144.000000    89.875000    28.040000    83.000000   \n",
      "max     696.000000   295.000000   142.500000    56.800000   143.000000   \n",
      "\n",
      "           glucose  \n",
      "count  3850.000000  \n",
      "mean     81.966753  \n",
      "std      23.959998  \n",
      "min      40.000000  \n",
      "25%      71.000000  \n",
      "50%      78.000000  \n",
      "75%      87.000000  \n",
      "max     394.000000  \n"
     ]
    }
   ],
   "source": [
    "print(df.describe())#benim veri setim çok büyük olduğu için değerler büyük çıktı bununla ilgili bir düzenleme yapacağım "
   ]
  },
  {
   "cell_type": "code",
   "execution_count": 10,
   "id": "ffb8f526",
   "metadata": {},
   "outputs": [],
   "source": [
    "df_sampled=df.sample(n=300, random_state=42).reset_index(drop=True)"
   ]
  },
  {
   "cell_type": "code",
   "execution_count": 11,
   "id": "012e1894",
   "metadata": {},
   "outputs": [
    {
     "name": "stdout",
     "output_type": "stream",
     "text": [
      "     Gender  age      education currentSmoker  cigsPerDay  BPMeds  \\\n",
      "0      Male   63     uneducated             N         0.0     0.0   \n",
      "1      Male   45       graduate             N         0.0     0.0   \n",
      "2    Female   51     uneducated             Y         2.0     0.0   \n",
      "3      Male   45       graduate             Y        30.0     0.0   \n",
      "4    Female   45  primaryschool             Y         3.0     0.0   \n",
      "..      ...  ...            ...           ...         ...     ...   \n",
      "295    Male   59     uneducated             Y         3.0     0.0   \n",
      "296    Male   42  primaryschool             Y        20.0     0.0   \n",
      "297  Female   60  primaryschool             N         0.0     0.0   \n",
      "298    Male   67     uneducated             Y        40.0     0.0   \n",
      "299  Female   43  primaryschool             N         0.0     0.0   \n",
      "\n",
      "    prevalentStroke  prevalentHyp  diabetes  totChol  sysBP  diaBP    BMI  \\\n",
      "0                no             1         0    190.0  148.0   90.0  27.13   \n",
      "1                no             0         0    162.0  125.0   89.0  27.98   \n",
      "2                no             0         0    261.0  127.0   81.0  20.24   \n",
      "3                no             0         0    250.0  126.0   89.5  28.68   \n",
      "4                no             0         0    250.0  130.0   80.0  20.24   \n",
      "..              ...           ...       ...      ...    ...    ...    ...   \n",
      "295              no             1         1    230.0  182.0  102.0  25.91   \n",
      "296              no             0         0    238.0  133.0   88.0  28.84   \n",
      "297              no             1         0    335.0  199.0   83.0  24.61   \n",
      "298              no             1         0    216.0  148.0   70.0  32.63   \n",
      "299              no             0         0    190.0  111.0   74.0  24.47   \n",
      "\n",
      "     heartRate  glucose Heart_ stroke  \n",
      "0         72.0     86.0            No  \n",
      "1         85.0     83.0            No  \n",
      "2         75.0     96.0            No  \n",
      "3         75.0     92.0            No  \n",
      "4         90.0     86.0            No  \n",
      "..         ...      ...           ...  \n",
      "295       66.0    147.0           yes  \n",
      "296       80.0     58.0            No  \n",
      "297       80.0     90.0            No  \n",
      "298       90.0    103.0           yes  \n",
      "299       72.0      NaN            No  \n",
      "\n",
      "[300 rows x 16 columns]\n"
     ]
    }
   ],
   "source": [
    "print(df_sampled) # veri setimin satırlarını indirgemek için bu kodu kullanıyorum ve ardından yeni DataFrame oluşuyor \n",
    "# yeni DataFrame adı df_sampled bundan sonraki işlemlerime bunun üzerinden yapacağım."
   ]
  },
  {
   "cell_type": "code",
   "execution_count": 12,
   "id": "2fbb1de1",
   "metadata": {},
   "outputs": [
    {
     "name": "stdout",
     "output_type": "stream",
     "text": [
      "   Gender  age      education currentSmoker  cigsPerDay  BPMeds  \\\n",
      "0    Male   63     uneducated             N         0.0     0.0   \n",
      "1    Male   45       graduate             N         0.0     0.0   \n",
      "2  Female   51     uneducated             Y         2.0     0.0   \n",
      "3    Male   45       graduate             Y        30.0     0.0   \n",
      "4  Female   45  primaryschool             Y         3.0     0.0   \n",
      "\n",
      "  prevalentStroke  prevalentHyp  diabetes  totChol  sysBP  diaBP    BMI  \\\n",
      "0              no             1         0    190.0  148.0   90.0  27.13   \n",
      "1              no             0         0    162.0  125.0   89.0  27.98   \n",
      "2              no             0         0    261.0  127.0   81.0  20.24   \n",
      "3              no             0         0    250.0  126.0   89.5  28.68   \n",
      "4              no             0         0    250.0  130.0   80.0  20.24   \n",
      "\n",
      "   heartRate  glucose Heart_ stroke  \n",
      "0       72.0     86.0            No  \n",
      "1       85.0     83.0            No  \n",
      "2       75.0     96.0            No  \n",
      "3       75.0     92.0            No  \n",
      "4       90.0     86.0            No  \n",
      "<class 'pandas.core.frame.DataFrame'>\n",
      "RangeIndex: 300 entries, 0 to 299\n",
      "Data columns (total 16 columns):\n",
      " #   Column           Non-Null Count  Dtype  \n",
      "---  ------           --------------  -----  \n",
      " 0   Gender           300 non-null    object \n",
      " 1   age              300 non-null    int64  \n",
      " 2   education        296 non-null    object \n",
      " 3   currentSmoker    300 non-null    object \n",
      " 4   cigsPerDay       299 non-null    float64\n",
      " 5   BPMeds           299 non-null    float64\n",
      " 6   prevalentStroke  300 non-null    object \n",
      " 7   prevalentHyp     300 non-null    int64  \n",
      " 8   diabetes         300 non-null    int64  \n",
      " 9   totChol          298 non-null    float64\n",
      " 10  sysBP            300 non-null    float64\n",
      " 11  diaBP            300 non-null    float64\n",
      " 12  BMI              297 non-null    float64\n",
      " 13  heartRate        300 non-null    float64\n",
      " 14  glucose          274 non-null    float64\n",
      " 15  Heart_ stroke    300 non-null    object \n",
      "dtypes: float64(8), int64(3), object(5)\n",
      "memory usage: 37.6+ KB\n",
      "None\n"
     ]
    }
   ],
   "source": [
    "print(df_sampled.head())\n",
    "print(df_sampled.info())# df_sampled için tekraradan ilk 5 sütun getirme ve hangi değerler boş veya kaç girdi var için yeniden yazdırıyorum"
   ]
  },
  {
   "cell_type": "code",
   "execution_count": 13,
   "id": "c71f4806",
   "metadata": {},
   "outputs": [
    {
     "name": "stdout",
     "output_type": "stream",
     "text": [
      "              age  cigsPerDay      BPMeds  prevalentHyp    diabetes  \\\n",
      "count  300.000000  299.000000  299.000000    300.000000  300.000000   \n",
      "mean    49.706667    7.515050    0.026756      0.283333    0.023333   \n",
      "std      8.747706   10.472508    0.161640      0.451370    0.151212   \n",
      "min     33.000000    0.000000    0.000000      0.000000    0.000000   \n",
      "25%     42.000000    0.000000    0.000000      0.000000    0.000000   \n",
      "50%     49.000000    0.000000    0.000000      0.000000    0.000000   \n",
      "75%     57.000000   15.000000    0.000000      1.000000    0.000000   \n",
      "max     69.000000   43.000000    1.000000      1.000000    1.000000   \n",
      "\n",
      "          totChol       sysBP       diaBP         BMI   heartRate     glucose  \n",
      "count  298.000000  300.000000  300.000000  297.000000  300.000000  274.000000  \n",
      "mean   237.701342  132.035000   82.263333   25.699428   75.000000   81.671533  \n",
      "std     45.008133   20.995571   11.328140    3.955254   11.809525   20.955599  \n",
      "min    113.000000   85.000000   55.000000   16.590000   48.000000   50.000000  \n",
      "25%    206.000000  117.875000   75.000000   23.080000   66.000000   71.000000  \n",
      "50%    235.000000  128.000000   81.000000   25.610000   75.000000   78.000000  \n",
      "75%    267.500000  143.625000   88.250000   27.910000   81.000000   87.000000  \n",
      "max    372.000000  213.000000  133.000000   40.810000  120.000000  292.000000  \n"
     ]
    }
   ],
   "source": [
    "print(df_sampled.describe())# df_sampled için istatiksel işlemler için describe komutunu çalıştırıyorum"
   ]
  },
  {
   "cell_type": "code",
   "execution_count": 14,
   "id": "357ccd9d",
   "metadata": {},
   "outputs": [
    {
     "name": "stdout",
     "output_type": "stream",
     "text": [
      "37\n"
     ]
    }
   ],
   "source": [
    "print(df_sampled.isna().sum().sum())#boş verilerimi saydım."
   ]
  },
  {
   "cell_type": "code",
   "execution_count": 15,
   "id": "542594c9",
   "metadata": {},
   "outputs": [
    {
     "name": "stdout",
     "output_type": "stream",
     "text": [
      "     Gender  age      education currentSmoker  cigsPerDay  BPMeds  \\\n",
      "0      Male   63     uneducated             N         0.0     0.0   \n",
      "1      Male   45       graduate             N         0.0     0.0   \n",
      "2    Female   51     uneducated             Y         2.0     0.0   \n",
      "3      Male   45       graduate             Y        30.0     0.0   \n",
      "4    Female   45  primaryschool             Y         3.0     0.0   \n",
      "..      ...  ...            ...           ...         ...     ...   \n",
      "295    Male   59     uneducated             Y         3.0     0.0   \n",
      "296    Male   42  primaryschool             Y        20.0     0.0   \n",
      "297  Female   60  primaryschool             N         0.0     0.0   \n",
      "298    Male   67     uneducated             Y        40.0     0.0   \n",
      "299  Female   43  primaryschool             N         0.0     0.0   \n",
      "\n",
      "    prevalentStroke  prevalentHyp  diabetes  totChol  sysBP  diaBP    BMI  \\\n",
      "0                no             1         0    190.0  148.0   90.0  27.13   \n",
      "1                no             0         0    162.0  125.0   89.0  27.98   \n",
      "2                no             0         0    261.0  127.0   81.0  20.24   \n",
      "3                no             0         0    250.0  126.0   89.5  28.68   \n",
      "4                no             0         0    250.0  130.0   80.0  20.24   \n",
      "..              ...           ...       ...      ...    ...    ...    ...   \n",
      "295              no             1         1    230.0  182.0  102.0  25.91   \n",
      "296              no             0         0    238.0  133.0   88.0  28.84   \n",
      "297              no             1         0    335.0  199.0   83.0  24.61   \n",
      "298              no             1         0    216.0  148.0   70.0  32.63   \n",
      "299              no             0         0    190.0  111.0   74.0  24.47   \n",
      "\n",
      "     heartRate     glucose Heart_ stroke  \n",
      "0         72.0   86.000000            No  \n",
      "1         85.0   83.000000            No  \n",
      "2         75.0   96.000000            No  \n",
      "3         75.0   92.000000            No  \n",
      "4         90.0   86.000000            No  \n",
      "..         ...         ...           ...  \n",
      "295       66.0  147.000000           yes  \n",
      "296       80.0   58.000000            No  \n",
      "297       80.0   90.000000            No  \n",
      "298       90.0  103.000000           yes  \n",
      "299       72.0   81.966753            No  \n",
      "\n",
      "[300 rows x 16 columns]\n"
     ]
    }
   ],
   "source": [
    "df_sampled[\"totChol\"].fillna((df[\"totChol\"].mean()),inplace=True)\n",
    "df_sampled[\"cigsPerDay\"].fillna((df[\"cigsPerDay\"].mean()),inplace=True)\n",
    "df_sampled[\"BPMeds\"].fillna((df[\"BPMeds\"].mean()),inplace=True)\n",
    "df_sampled[\"BMI\"].fillna((df[\"BMI\"].mean()),inplace=True)\n",
    "df_sampled[\"glucose\"].fillna((df[\"glucose\"].mean()),inplace=True)\n",
    "print(df_sampled)#boş olan verilirimi ortalama değer ile doldurdum."
   ]
  },
  {
   "cell_type": "code",
   "execution_count": 16,
   "id": "29612697",
   "metadata": {},
   "outputs": [
    {
     "name": "stdout",
     "output_type": "stream",
     "text": [
      "     Gender  age      education currentSmoker  cigsPerDay  BPMeds  \\\n",
      "0      Male   63     uneducated             N         0.0     0.0   \n",
      "1      Male   45       graduate             N         0.0     0.0   \n",
      "2    Female   51     uneducated             Y         2.0     0.0   \n",
      "3      Male   45       graduate             Y        30.0     0.0   \n",
      "4    Female   45  primaryschool             Y         3.0     0.0   \n",
      "..      ...  ...            ...           ...         ...     ...   \n",
      "295    Male   59     uneducated             Y         3.0     0.0   \n",
      "296    Male   42  primaryschool             Y        20.0     0.0   \n",
      "297  Female   60  primaryschool             N         0.0     0.0   \n",
      "298    Male   67     uneducated             Y        40.0     0.0   \n",
      "299  Female   43  primaryschool             N         0.0     0.0   \n",
      "\n",
      "    prevalentStroke  prevalentHyp  diabetes  totChol  sysBP  diaBP    BMI  \\\n",
      "0                no             1         0    190.0  148.0   90.0  27.13   \n",
      "1                no             0         0    162.0  125.0   89.0  27.98   \n",
      "2                no             0         0    261.0  127.0   81.0  20.24   \n",
      "3                no             0         0    250.0  126.0   89.5  28.68   \n",
      "4                no             0         0    250.0  130.0   80.0  20.24   \n",
      "..              ...           ...       ...      ...    ...    ...    ...   \n",
      "295              no             1         1    230.0  182.0  102.0  25.91   \n",
      "296              no             0         0    238.0  133.0   88.0  28.84   \n",
      "297              no             1         0    335.0  199.0   83.0  24.61   \n",
      "298              no             1         0    216.0  148.0   70.0  32.63   \n",
      "299              no             0         0    190.0  111.0   74.0  24.47   \n",
      "\n",
      "     heartRate     glucose Heart_ stroke  \n",
      "0         72.0   86.000000            No  \n",
      "1         85.0   83.000000            No  \n",
      "2         75.0   96.000000            No  \n",
      "3         75.0   92.000000            No  \n",
      "4         90.0   86.000000            No  \n",
      "..         ...         ...           ...  \n",
      "295       66.0  147.000000           yes  \n",
      "296       80.0   58.000000            No  \n",
      "297       80.0   90.000000            No  \n",
      "298       90.0  103.000000           yes  \n",
      "299       72.0   81.966753            No  \n",
      "\n",
      "[300 rows x 16 columns]\n"
     ]
    }
   ],
   "source": [
    "df_sampled[\"education\"].fillna(\"uneducated\",inplace=True)# education sütunundaki boş değerleri uneducated olarak doldurdum.\n",
    "print(df_sampled)"
   ]
  },
  {
   "cell_type": "code",
   "execution_count": 17,
   "id": "229d59de",
   "metadata": {},
   "outputs": [
    {
     "name": "stdout",
     "output_type": "stream",
     "text": [
      "   Gender  age      education currentSmoker  cigsPerDay  BPMeds  \\\n",
      "0    Male   63     uneducated             N         0.0     0.0   \n",
      "1    Male   45       graduate             N         0.0     0.0   \n",
      "2  Female   51     uneducated             Y         2.0     0.0   \n",
      "3    Male   45       graduate             Y        30.0     0.0   \n",
      "4  Female   45  primaryschool             Y         3.0     0.0   \n",
      "\n",
      "  prevalentStroke  prevalentHyp  diabetes  totChol  sysBP  diaBP    BMI  \\\n",
      "0              no             1         0    190.0  148.0   90.0  27.13   \n",
      "1              no             0         0    162.0  125.0   89.0  27.98   \n",
      "2              no             0         0    261.0  127.0   81.0  20.24   \n",
      "3              no             0         0    250.0  126.0   89.5  28.68   \n",
      "4              no             0         0    250.0  130.0   80.0  20.24   \n",
      "\n",
      "   heartRate  glucose Heart_ stroke  \n",
      "0       72.0     86.0            No  \n",
      "1       85.0     83.0            No  \n",
      "2       75.0     96.0            No  \n",
      "3       75.0     92.0            No  \n",
      "4       90.0     86.0            No  \n",
      "<class 'pandas.core.frame.DataFrame'>\n",
      "RangeIndex: 300 entries, 0 to 299\n",
      "Data columns (total 16 columns):\n",
      " #   Column           Non-Null Count  Dtype  \n",
      "---  ------           --------------  -----  \n",
      " 0   Gender           300 non-null    object \n",
      " 1   age              300 non-null    int64  \n",
      " 2   education        300 non-null    object \n",
      " 3   currentSmoker    300 non-null    object \n",
      " 4   cigsPerDay       300 non-null    float64\n",
      " 5   BPMeds           300 non-null    float64\n",
      " 6   prevalentStroke  300 non-null    object \n",
      " 7   prevalentHyp     300 non-null    int64  \n",
      " 8   diabetes         300 non-null    int64  \n",
      " 9   totChol          300 non-null    float64\n",
      " 10  sysBP            300 non-null    float64\n",
      " 11  diaBP            300 non-null    float64\n",
      " 12  BMI              300 non-null    float64\n",
      " 13  heartRate        300 non-null    float64\n",
      " 14  glucose          300 non-null    float64\n",
      " 15  Heart_ stroke    300 non-null    object \n",
      "dtypes: float64(8), int64(3), object(5)\n",
      "memory usage: 37.6+ KB\n",
      "None\n"
     ]
    }
   ],
   "source": [
    "print(df_sampled.head())\n",
    "print(df_sampled.info())# boş verilerimi doldurduktan sonra tekrar head ve info komutlarını çalıştırıp kontrol ediyorum."
   ]
  },
  {
   "cell_type": "code",
   "execution_count": 18,
   "id": "a15336db",
   "metadata": {},
   "outputs": [
    {
     "name": "stdout",
     "output_type": "stream",
     "text": [
      "     Gender  age      education currentSmoker  cigsPerDay  BPMeds  \\\n",
      "0      Male   63     uneducated             N         0.0     0.0   \n",
      "1      Male   45       graduate             N         0.0     0.0   \n",
      "2    Female   51     uneducated             N         2.0     0.0   \n",
      "3      Male   45       graduate             N        30.0     0.0   \n",
      "4    Female   45  primaryschool             N         3.0     0.0   \n",
      "..      ...  ...            ...           ...         ...     ...   \n",
      "295    Male   59     uneducated             N         3.0     0.0   \n",
      "296    Male   42  primaryschool             N        20.0     0.0   \n",
      "297  Female   60  primaryschool             N         0.0     0.0   \n",
      "298    Male   67     uneducated             N        40.0     0.0   \n",
      "299  Female   43  primaryschool             N         0.0     0.0   \n",
      "\n",
      "    prevalentStroke  prevalentHyp  diabetes  totChol  sysBP  diaBP    BMI  \\\n",
      "0                no             1         0    190.0  148.0   90.0  27.13   \n",
      "1                no             0         0    162.0  125.0   89.0  27.98   \n",
      "2                no             0         0    261.0  127.0   81.0  20.24   \n",
      "3                no             0         0    250.0  126.0   89.5  28.68   \n",
      "4                no             0         0    250.0  130.0   80.0  20.24   \n",
      "..              ...           ...       ...      ...    ...    ...    ...   \n",
      "295              no             1         1    230.0  182.0  102.0  25.91   \n",
      "296              no             0         0    238.0  133.0   88.0  28.84   \n",
      "297              no             1         0    335.0  199.0   83.0  24.61   \n",
      "298              no             1         0    216.0  148.0   70.0  32.63   \n",
      "299              no             0         0    190.0  111.0   74.0  24.47   \n",
      "\n",
      "     heartRate     glucose Heart_ stroke  \n",
      "0         72.0   86.000000            No  \n",
      "1         85.0   83.000000            No  \n",
      "2         75.0   96.000000            No  \n",
      "3         75.0   92.000000            No  \n",
      "4         90.0   86.000000            No  \n",
      "..         ...         ...           ...  \n",
      "295       66.0  147.000000           yes  \n",
      "296       80.0   58.000000            No  \n",
      "297       80.0   90.000000            No  \n",
      "298       90.0  103.000000           yes  \n",
      "299       72.0   81.966753            No  \n",
      "\n",
      "[300 rows x 16 columns]\n"
     ]
    }
   ],
   "source": [
    "df_sampled[\"currentSmoker\"]=[\"Y\" if row==1 else \"N\" for row in df_sampled[\"currentSmoker\"]]\n",
    "print(df_sampled)#curretSmoker sütununu kategorize yaptım 0=N ve 1=Y oldu yes no olarak kategorize oldu"
   ]
  },
  {
   "cell_type": "code",
   "execution_count": 19,
   "id": "9c9bc25f",
   "metadata": {},
   "outputs": [
    {
     "name": "stdout",
     "output_type": "stream",
     "text": [
      "     Gender  age      education currentSmoker  cigsPerDay  BPMeds  \\\n",
      "0      Male   63     uneducated             N         0.0     0.0   \n",
      "1      Male   45       graduate             N         0.0     0.0   \n",
      "2    Female   51     uneducated             N         2.0     0.0   \n",
      "3      Male   45       graduate             N        30.0     0.0   \n",
      "4    Female   45  primaryschool             N         3.0     0.0   \n",
      "..      ...  ...            ...           ...         ...     ...   \n",
      "295    Male   59     uneducated             N         3.0     0.0   \n",
      "296    Male   42  primaryschool             N        20.0     0.0   \n",
      "297  Female   60  primaryschool             N         0.0     0.0   \n",
      "298    Male   67     uneducated             N        40.0     0.0   \n",
      "299  Female   43  primaryschool             N         0.0     0.0   \n",
      "\n",
      "    prevalentStroke prevalentHyp diabetes  totChol  sysBP  diaBP    BMI  \\\n",
      "0                no            Y        N    190.0  148.0   90.0  27.13   \n",
      "1                no            N        N    162.0  125.0   89.0  27.98   \n",
      "2                no            N        N    261.0  127.0   81.0  20.24   \n",
      "3                no            N        N    250.0  126.0   89.5  28.68   \n",
      "4                no            N        N    250.0  130.0   80.0  20.24   \n",
      "..              ...          ...      ...      ...    ...    ...    ...   \n",
      "295              no            Y        Y    230.0  182.0  102.0  25.91   \n",
      "296              no            N        N    238.0  133.0   88.0  28.84   \n",
      "297              no            Y        N    335.0  199.0   83.0  24.61   \n",
      "298              no            Y        N    216.0  148.0   70.0  32.63   \n",
      "299              no            N        N    190.0  111.0   74.0  24.47   \n",
      "\n",
      "     heartRate     glucose Heart_ stroke  \n",
      "0         72.0   86.000000            No  \n",
      "1         85.0   83.000000            No  \n",
      "2         75.0   96.000000            No  \n",
      "3         75.0   92.000000            No  \n",
      "4         90.0   86.000000            No  \n",
      "..         ...         ...           ...  \n",
      "295       66.0  147.000000           yes  \n",
      "296       80.0   58.000000            No  \n",
      "297       80.0   90.000000            No  \n",
      "298       90.0  103.000000           yes  \n",
      "299       72.0   81.966753            No  \n",
      "\n",
      "[300 rows x 16 columns]\n",
      "<class 'pandas.core.frame.DataFrame'>\n",
      "RangeIndex: 300 entries, 0 to 299\n",
      "Data columns (total 16 columns):\n",
      " #   Column           Non-Null Count  Dtype  \n",
      "---  ------           --------------  -----  \n",
      " 0   Gender           300 non-null    object \n",
      " 1   age              300 non-null    int64  \n",
      " 2   education        300 non-null    object \n",
      " 3   currentSmoker    300 non-null    object \n",
      " 4   cigsPerDay       300 non-null    float64\n",
      " 5   BPMeds           300 non-null    float64\n",
      " 6   prevalentStroke  300 non-null    object \n",
      " 7   prevalentHyp     300 non-null    object \n",
      " 8   diabetes         300 non-null    object \n",
      " 9   totChol          300 non-null    float64\n",
      " 10  sysBP            300 non-null    float64\n",
      " 11  diaBP            300 non-null    float64\n",
      " 12  BMI              300 non-null    float64\n",
      " 13  heartRate        300 non-null    float64\n",
      " 14  glucose          300 non-null    float64\n",
      " 15  Heart_ stroke    300 non-null    object \n",
      "dtypes: float64(8), int64(1), object(7)\n",
      "memory usage: 37.6+ KB\n",
      "None\n"
     ]
    }
   ],
   "source": [
    "df_sampled[\"prevalentHyp\"]=[\"Y\" if row==1 else \"N\" for row in df_sampled[\"prevalentHyp\"]]\n",
    "df_sampled[\"diabetes\"]=[\"Y\" if row==1 else \"N\" for row in df_sampled[\"diabetes\"]]\n",
    "\n",
    "print(df_sampled)\n",
    "print(df_sampled.info()) # prevalentHyp ve diyabet değerleride veri setinde 0 ve 1 şeklindeydi onları kategorize yaptım."
   ]
  },
  {
   "cell_type": "code",
   "execution_count": 20,
   "id": "d21fca5f",
   "metadata": {},
   "outputs": [
    {
     "name": "stdout",
     "output_type": "stream",
     "text": [
      "Empty DataFrame\n",
      "Columns: [Gender, age, education, currentSmoker, cigsPerDay, BPMeds, prevalentStroke, prevalentHyp, diabetes, totChol, sysBP, diaBP, BMI, heartRate, glucose, Heart_ stroke]\n",
      "Index: []\n"
     ]
    }
   ],
   "source": [
    "print(df_sampled[df_sampled.duplicated()])"
   ]
  },
  {
   "cell_type": "code",
   "execution_count": 21,
   "id": "69d4ef41",
   "metadata": {},
   "outputs": [
    {
     "name": "stdout",
     "output_type": "stream",
     "text": [
      "0      False\n",
      "1      False\n",
      "2      False\n",
      "3      False\n",
      "4      False\n",
      "       ...  \n",
      "295    False\n",
      "296    False\n",
      "297    False\n",
      "298    False\n",
      "299    False\n",
      "Length: 300, dtype: bool\n"
     ]
    }
   ],
   "source": [
    "print(df_sampled.duplicated())# tekaralayan veriler için"
   ]
  },
  {
   "cell_type": "code",
   "execution_count": 22,
   "id": "90a0e72f",
   "metadata": {},
   "outputs": [
    {
     "name": "stdout",
     "output_type": "stream",
     "text": [
      "           age  cigsPerDay  BPMeds  prevalentHyp  diabetes   totChol  \\\n",
      "0     0.184211    0.000000     0.0           0.0       0.0  0.149406   \n",
      "1     0.368421    0.000000     0.0           0.0       0.0  0.242784   \n",
      "2     0.421053    0.285714     0.0           0.0       0.0  0.234295   \n",
      "3     0.763158    0.428571     0.0           1.0       0.0  0.200340   \n",
      "4     0.368421    0.328571     0.0           0.0       0.0  0.302207   \n",
      "...        ...         ...     ...           ...       ...       ...   \n",
      "4233  0.473684    0.014286     0.0           1.0       0.0  0.349745   \n",
      "4234  0.500000    0.614286     0.0           0.0       0.0  0.169779   \n",
      "4235  0.421053    0.285714     NaN           0.0       0.0  0.239389   \n",
      "4236  0.315789    0.214286     0.0           0.0       0.0  0.174873   \n",
      "4237  0.526316    0.000000     0.0           0.0       0.0  0.275042   \n",
      "\n",
      "         sysBP     diaBP       BMI  heartRate   glucose  \n",
      "0     0.106383  0.232804  0.277024   0.363636  0.104520  \n",
      "1     0.177305  0.349206  0.319680   0.515152  0.101695  \n",
      "2     0.208038  0.338624  0.237518   0.313131  0.084746  \n",
      "3     0.314421  0.497354  0.316045   0.212121  0.177966  \n",
      "4     0.219858  0.380952  0.183228   0.414141  0.127119  \n",
      "...        ...       ...       ...        ...       ...  \n",
      "4233  0.451537  0.465608  0.252787   0.222222  0.129944  \n",
      "4234  0.203310  0.338624  0.101066   0.212121  0.079096  \n",
      "4235  0.224586  0.253968  0.156568   0.404040  0.129944  \n",
      "4236  0.203310  0.412698  0.087736   0.424242       NaN  \n",
      "4237  0.236407  0.370370  0.143723   0.363636  0.189266  \n",
      "\n",
      "[4238 rows x 11 columns]\n"
     ]
    }
   ],
   "source": [
    "dfScaler = df.select_dtypes(include=[np.number])  \n",
    "x = (dfScaler - dfScaler.min()) / (dfScaler.max() - dfScaler.min())  \n",
    "print(x)# burada min-max normalizasyonu yaptım. "
   ]
  },
  {
   "cell_type": "code",
   "execution_count": 23,
   "id": "30d9ea43",
   "metadata": {},
   "outputs": [
    {
     "name": "stdout",
     "output_type": "stream",
     "text": [
      "          age  cigsPerDay    BPMeds   totChol     sysBP     diaBP       BMI  \\\n",
      "0    1.522176    0.720453  0.166142  1.065030  0.761669  0.684101  0.363862   \n",
      "1    0.538945    0.720453  0.166142  1.690273  0.335631  0.595678  0.580213   \n",
      "2    0.148095    0.528843  0.166142  0.520407  0.240213  0.111708  1.389849   \n",
      "3    0.538945    2.153690  0.166142  0.274776  0.287922  0.639890  0.758384   \n",
      "4    0.538945    0.433039  0.166142  0.274776  0.097087  0.200131  1.389849   \n",
      "..        ...         ...       ...       ...       ...       ...       ...   \n",
      "295  1.064149    0.433039  0.166142  0.171826  2.383764  1.745180  0.053336   \n",
      "296  0.882465    1.195643  0.166142  0.006815  0.046039  0.507255  0.799109   \n",
      "297  1.178655    0.720453  0.166142  2.172835  3.194811  0.065138  0.277553   \n",
      "298  1.980202    3.111738  0.166142  0.484447  0.761669  1.084364  1.763777   \n",
      "299  0.767958    0.720453  0.166142  1.065030  1.003552  0.730671  0.313187   \n",
      "\n",
      "     heartRate   glucose  \n",
      "0     0.254457  0.215246  \n",
      "1     0.848189  0.065175  \n",
      "2     0.000000  0.715482  \n",
      "3     0.000000  0.515388  \n",
      "4     1.272283  0.215246  \n",
      "..         ...       ...  \n",
      "295   0.763370  3.266689  \n",
      "296   0.424094  1.185417  \n",
      "297   0.424094  0.415341  \n",
      "298   1.272283  1.065648  \n",
      "299   0.254457  0.013488  \n",
      "\n",
      "[300 rows x 9 columns]\n"
     ]
    }
   ],
   "source": [
    "import matplotlib.pyplot as plt\n",
    "from sklearn.linear_model import LinearRegression\n",
    "from sklearn.tree import DecisionTreeRegressor\n",
    "from sklearn.ensemble import RandomForestRegressor\n",
    "from sklearn.metrics import r2_score,mean_absolute_percentage_error\n",
    "from scipy import stats\n",
    "\n",
    "df_numeric = df_sampled.select_dtypes(include=[np.number])\n",
    "z = np.abs(stats.zscore(df_numeric))\n",
    "print(z)\n",
    "# z score hesaplandı seçili numeric değerler için str olan değerlerde sayısal \n",
    "#işlemler yapılamıyor o yüzden numaric komutunu kullandım."
   ]
  },
  {
   "cell_type": "code",
   "execution_count": 24,
   "id": "87d4e14f",
   "metadata": {},
   "outputs": [
    {
     "name": "stdout",
     "output_type": "stream",
     "text": [
      "(array([  9,  11,  20,  25,  40,  51,  60,  80,  80, 116, 130, 134, 145,\n",
      "       153, 154, 154, 155, 170, 184, 205, 207, 211, 211, 231, 257, 262,\n",
      "       295, 297, 298], dtype=int64), array([8, 2, 4, 7, 2, 1, 6, 4, 5, 1, 8, 2, 1, 2, 2, 6, 2, 8, 1, 2, 6, 4,\n",
      "       5, 6, 4, 2, 8, 4, 1], dtype=int64))\n"
     ]
    }
   ],
   "source": [
    "print(np.where (z>3))"
   ]
  },
  {
   "cell_type": "code",
   "execution_count": 25,
   "id": "7faba19d",
   "metadata": {},
   "outputs": [
    {
     "name": "stdout",
     "output_type": "stream",
     "text": [
      "Index([  9,  11,  20,  25,  40,  51,  60,  80,  80, 116, 130, 134, 145, 153,\n",
      "       154, 154, 155, 170, 184, 205, 207, 211, 211, 231, 257, 262, 295, 297,\n",
      "       298],\n",
      "      dtype='int64')\n"
     ]
    }
   ],
   "source": [
    "selected=df_sampled.iloc[np.where (z>3)[0]].index\n",
    "print(selected)# z skorunun 3 ten büyük olduğu yerlere bakıyoruz ve selected değişkenine atıyoruz"
   ]
  },
  {
   "cell_type": "code",
   "execution_count": 26,
   "id": "fa334e2c",
   "metadata": {},
   "outputs": [],
   "source": [
    "dfN=df_sampled.drop(selected,axis=0,inplace=True)# burda üstte yaptığımız işlemdeki selected değişkenndeki değerleri dfN \n",
    "# DataFramine atadık ve silme işlemi yaptık."
   ]
  },
  {
   "cell_type": "code",
   "execution_count": 27,
   "id": "0ed52790",
   "metadata": {},
   "outputs": [
    {
     "name": "stdout",
     "output_type": "stream",
     "text": [
      "(274, 16)\n"
     ]
    }
   ],
   "source": [
    "dfN=df_sampled\n",
    "print(dfN.shape)"
   ]
  },
  {
   "cell_type": "code",
   "execution_count": 28,
   "id": "5a39d3c7",
   "metadata": {},
   "outputs": [],
   "source": [
    "dfN = dfN.select_dtypes(include=[np.number])  # Sadece sayısal sütunları seçtik ve normalizasyon yaptık \n",
    "dfN = (dfN - dfN.min()) / (dfN.max() - dfN.min())"
   ]
  },
  {
   "cell_type": "code",
   "execution_count": 29,
   "id": "098b4cea",
   "metadata": {},
   "outputs": [
    {
     "name": "stdout",
     "output_type": "stream",
     "text": [
      "          age  cigsPerDay  BPMeds   totChol     sysBP     diaBP       BMI  \\\n",
      "0    0.833333    0.000000     0.0  0.297297  0.583333  0.616822  0.508933   \n",
      "1    0.333333    0.000000     0.0  0.189189  0.370370  0.598131  0.549976   \n",
      "2    0.500000    0.057143     0.0  0.571429  0.388889  0.448598  0.176243   \n",
      "3    0.333333    0.857143     0.0  0.528958  0.379630  0.607477  0.583776   \n",
      "4    0.333333    0.085714     0.0  0.528958  0.416667  0.429907  0.176243   \n",
      "..        ...         ...     ...       ...       ...       ...       ...   \n",
      "292  0.166667    0.085714     0.0  0.281853  0.268519  0.373832  0.213423   \n",
      "293  0.527778    0.000000     0.0  0.729730  0.231481  0.196262  0.334138   \n",
      "294  0.194444    0.428571     0.0  0.413127  0.430556  0.476636  0.374698   \n",
      "296  0.250000    0.571429     0.0  0.482625  0.444444  0.579439  0.591502   \n",
      "299  0.277778    0.000000     0.0  0.297297  0.240741  0.317757  0.380493   \n",
      "\n",
      "     heartRate   glucose  \n",
      "0     0.387097  0.455696  \n",
      "1     0.596774  0.417722  \n",
      "2     0.435484  0.582278  \n",
      "3     0.435484  0.531646  \n",
      "4     0.677419  0.455696  \n",
      "..         ...       ...  \n",
      "292   0.516129  0.443038  \n",
      "293   0.241935  0.468354  \n",
      "294   0.516129  0.354430  \n",
      "296   0.516129  0.101266  \n",
      "299   0.387097  0.404642  \n",
      "\n",
      "[274 rows x 9 columns]\n"
     ]
    }
   ],
   "source": [
    "print(dfN)"
   ]
  },
  {
   "cell_type": "code",
   "execution_count": 30,
   "id": "76feffa7",
   "metadata": {},
   "outputs": [
    {
     "name": "stdout",
     "output_type": "stream",
     "text": [
      "Index(['age', 'cigsPerDay', 'BPMeds', 'totChol', 'sysBP', 'diaBP', 'BMI',\n",
      "       'heartRate', 'glucose'],\n",
      "      dtype='object')\n"
     ]
    }
   ],
   "source": [
    "print(dfN.columns)\n",
    "# burada bu komutu yaptığım işlemler sonucunda hangi sütunlarım kaldı onun için tekrardan sütunlarımı görebilmek için kullandım bu kodu."
   ]
  },
  {
   "cell_type": "code",
   "execution_count": 31,
   "id": "3bd52244",
   "metadata": {},
   "outputs": [
    {
     "name": "stdout",
     "output_type": "stream",
     "text": [
      "age           0\n",
      "cigsPerDay    0\n",
      "BPMeds        0\n",
      "totChol       0\n",
      "sysBP         0\n",
      "diaBP         0\n",
      "BMI           0\n",
      "heartRate     0\n",
      "glucose       0\n",
      "dtype: int64\n"
     ]
    }
   ],
   "source": [
    "print(dfN.isnull().sum()) # Eksik değerlerin her sütunda kaç kez bulunduğunu yazdırdım\n",
    "\n",
    "dfN = dfN.dropna() # Eksik değer içeren satırları kaldırdım\n",
    "\n",
    "y = dfN[\"heartRate\"].values\n",
    "\n",
    "x = dfN.drop(\"heartRate\", axis=1).values\n",
    "#heartRate değerine göre satır sütun değerlerini belirledim normalde  verisetimde heart stroke sütunumda vardı ama \n",
    "# o sütun işlemleri uyguladığımda demekki veri olarak bir sıkıntı olduğu için silindi bende bu yüzden heartRate \n",
    "#sütununa göre x ve y değerlerimi ayarladım."
   ]
  },
  {
   "cell_type": "code",
   "execution_count": 32,
   "id": "bfe5d4bb",
   "metadata": {},
   "outputs": [],
   "source": [
    "from sklearn.model_selection import train_test_split\n",
    "from sklearn.tree import DecisionTreeRegressor\n",
    "from sklearn.ensemble import RandomForestRegressor\n",
    "from sklearn.linear_model import LinearRegression\n",
    "x_train, x_test, y_train, y_test = train_test_split(x, y, test_size=0.1, random_state=42)\n",
    "#burada gerekli kütüphaneleri import ettim ve train ve test için verileri böldüm teste %10'luk bir veri verdim \n",
    "\n",
    "# Linear Regression\n",
    "mlr = LinearRegression()\n",
    "mlr.fit(x_train, y_train)\n",
    "mlr_pred = mlr.predict(x_test)\n",
    "\n",
    "# Decision Tree Regressor\n",
    "dt = DecisionTreeRegressor()\n",
    "dt.fit(x_train, y_train)\n",
    "dt_pred = dt.predict(x_test)\n",
    "\n",
    "# Random Forest Regressor\n",
    "rf = RandomForestRegressor(n_estimators=100, random_state=42)\n",
    "rf.fit(x_train, y_train.ravel()) \n",
    "rf_pred = rf.predict(x_test)\n"
   ]
  },
  {
   "cell_type": "code",
   "execution_count": 33,
   "id": "3abf30a4",
   "metadata": {},
   "outputs": [
    {
     "name": "stdout",
     "output_type": "stream",
     "text": [
      "mlr -0.1441040982484727 0.4086990057009639\n",
      "dt -2.906337633202469 0.6867346881828019\n",
      "rf -0.23746542655948222 0.4186075782952746\n"
     ]
    }
   ],
   "source": [
    "print(\"mlr\",r2_score(y_test,mlr_pred),mean_absolute_percentage_error(y_test,mlr_pred))\n",
    "print(\"dt\",r2_score(y_test,dt_pred),mean_absolute_percentage_error(y_test,dt_pred))\n",
    "print(\"rf\",r2_score(y_test,rf_pred),mean_absolute_percentage_error(y_test,rf_pred))"
   ]
  },
  {
   "cell_type": "code",
   "execution_count": 34,
   "id": "cd43320c",
   "metadata": {},
   "outputs": [
    {
     "name": "stdout",
     "output_type": "stream",
     "text": [
      "0.2875110639526801 [ 5.11192397e-11  6.53048626e-01  5.76229476e-01  3.01681897e-02\n",
      " -1.23716149e+00  1.15883622e+00 -2.02211012e+00  1.29449962e+00\n",
      " -1.25303697e-01  1.67894460e+00  2.49845080e+00  5.02803162e-03\n",
      " -6.62800071e+00  7.47291966e-01  5.76029098e-01  7.28055565e-01\n",
      " -4.06993671e+00  3.31864223e-02  2.02271533e-12 -9.58790720e-01\n",
      " -3.57584398e+00  4.29696418e+00 -4.45592774e+00  3.17233052e-02\n",
      "  3.01681897e-02  1.50258551e-02  7.82138252e-03  1.57889591e-02\n",
      "  1.30374359e-02  2.06212942e-02  3.77953271e+00 -3.11861303e+00\n",
      "  3.30583699e+00 -2.53145316e+00  1.01661310e+01  9.07619719e+00\n",
      " -2.71191323e+01  1.72303335e+00  6.83004753e+00  9.29291622e+00\n",
      "  7.72716824e+00  2.05035398e+00 -1.69741760e+00 -7.86889818e+00\n",
      " -2.57084136e+00  2.07105715e+00 -1.29476143e+00  8.38005270e-04\n",
      " -4.24935360e+00 -8.17598851e+00  6.21358590e+00  7.93633621e-01\n",
      " -5.91207577e+00 -6.91024337e-01  7.90478794e-14 -5.78015518e+00\n",
      "  9.07416820e+00 -3.70541266e+00 -1.51728703e+00  1.15455843e+00\n",
      "  5.02803162e-03  2.50430918e-03  1.30356375e-03  2.63149318e-03\n",
      "  2.17290599e-03  3.43688237e-03  5.28429774e+00  7.65350664e+00\n",
      " -7.31006648e+00  1.31940873e+00  1.45468893e+01  5.21619833e+00\n",
      " -7.62264016e+00 -5.36344165e+00  1.05489977e+01  1.23134338e+00\n",
      "  3.19954560e+00 -4.62957928e+00 -2.13814136e+00  1.47497276e+00\n",
      "  3.60113128e-01 -1.22723777e+00 -6.39488462e-14 -7.78186853e-01\n",
      "  1.55428271e+00 -2.81405581e-01  4.05096740e+00 -1.52890266e-01\n",
      "  2.84217094e-14 -2.66453526e-14  3.90798505e-14  3.90798505e-14\n",
      "  2.48689958e-14 -2.48689958e-14  4.41129127e+00  7.56285254e-01\n",
      " -5.26230954e+00  3.50053511e+00 -6.87250151e-03 -3.28256528e+00\n",
      "  1.49967581e+01 -3.39222272e+00 -8.91877548e+00 -8.32783076e+00\n",
      " -7.36941792e-01  4.39212358e+00  1.70587033e+00  1.15207762e+00\n",
      "  4.66113237e-01  3.01681897e-02  1.50258551e-02  7.82138252e-03\n",
      "  1.57889591e-02  1.30374359e-02  2.06212942e-02  7.48392011e-03\n",
      "  3.89559207e-03  7.86399894e-03  6.49354917e-03  1.02708377e-02\n",
      "  2.02776584e-03  4.09343384e-03  3.38007598e-03  5.34626147e-03\n",
      "  8.26338047e-03  6.82333095e-03  1.07924531e-02  5.63423716e-03\n",
      "  8.91166506e-03  1.40955682e-02 -4.44313231e+00  6.62979779e+00\n",
      " -2.02331370e-01 -4.39269605e-01 -8.45001539e+00 -1.85546522e+01\n",
      "  3.62383326e+01 -2.50993852e+00 -1.81436998e+01 -1.47278117e+01\n",
      "  6.40380163e-01  9.84089117e-01  3.08385307e+00 -2.27641451e+00\n",
      " -6.24380343e-01 -2.61124000e-01  1.04286264e+01 -6.85499313e+00\n",
      " -5.48359059e+00 -8.79124672e+00  6.87203492e+00  1.34622701e+01\n",
      "  9.29068649e+00 -7.10317236e+00  2.91094155e-01  2.98062368e+00\n",
      " -8.47921250e-01 -2.52605253e+00 -1.18448607e+01 -2.90421397e+00\n",
      " -4.37211911e+00 -2.50562156e-01  7.93515842e+00  5.21170727e+00\n",
      "  1.40707866e+00]\n"
     ]
    },
    {
     "ename": "ValueError",
     "evalue": "X has 10 features, but LinearRegression is expecting 165 features as input.",
     "output_type": "error",
     "traceback": [
      "\u001b[1;31m---------------------------------------------------------------------------\u001b[0m",
      "\u001b[1;31mValueError\u001b[0m                                Traceback (most recent call last)",
      "Cell \u001b[1;32mIn[34], line 11\u001b[0m\n\u001b[0;32m      8\u001b[0m \u001b[38;5;28mprint\u001b[39m(lr_pol\u001b[38;5;241m.\u001b[39mintercept_,lr_pol\u001b[38;5;241m.\u001b[39mcoef_)\n\u001b[0;32m     10\u001b[0m xnew\u001b[38;5;241m=\u001b[39mplr\u001b[38;5;241m.\u001b[39mfit_transform(np\u001b[38;5;241m.\u001b[39marray([[\u001b[38;5;241m80\u001b[39m,\u001b[38;5;241m22\u001b[39m]]))\n\u001b[1;32m---> 11\u001b[0m y_pred_pol\u001b[38;5;241m=\u001b[39mlr_pol\u001b[38;5;241m.\u001b[39mpredict(xnew)\n\u001b[0;32m     12\u001b[0m \u001b[38;5;28mprint\u001b[39m(y_pred_pol)\n",
      "File \u001b[1;32m~\\anaconda3\\Lib\\site-packages\\sklearn\\linear_model\\_base.py:386\u001b[0m, in \u001b[0;36mLinearModel.predict\u001b[1;34m(self, X)\u001b[0m\n\u001b[0;32m    372\u001b[0m \u001b[38;5;28;01mdef\u001b[39;00m \u001b[38;5;21mpredict\u001b[39m(\u001b[38;5;28mself\u001b[39m, X):\n\u001b[0;32m    373\u001b[0m \u001b[38;5;250m    \u001b[39m\u001b[38;5;124;03m\"\"\"\u001b[39;00m\n\u001b[0;32m    374\u001b[0m \u001b[38;5;124;03m    Predict using the linear model.\u001b[39;00m\n\u001b[0;32m    375\u001b[0m \n\u001b[1;32m   (...)\u001b[0m\n\u001b[0;32m    384\u001b[0m \u001b[38;5;124;03m        Returns predicted values.\u001b[39;00m\n\u001b[0;32m    385\u001b[0m \u001b[38;5;124;03m    \"\"\"\u001b[39;00m\n\u001b[1;32m--> 386\u001b[0m     \u001b[38;5;28;01mreturn\u001b[39;00m \u001b[38;5;28mself\u001b[39m\u001b[38;5;241m.\u001b[39m_decision_function(X)\n",
      "File \u001b[1;32m~\\anaconda3\\Lib\\site-packages\\sklearn\\linear_model\\_base.py:369\u001b[0m, in \u001b[0;36mLinearModel._decision_function\u001b[1;34m(self, X)\u001b[0m\n\u001b[0;32m    366\u001b[0m \u001b[38;5;28;01mdef\u001b[39;00m \u001b[38;5;21m_decision_function\u001b[39m(\u001b[38;5;28mself\u001b[39m, X):\n\u001b[0;32m    367\u001b[0m     check_is_fitted(\u001b[38;5;28mself\u001b[39m)\n\u001b[1;32m--> 369\u001b[0m     X \u001b[38;5;241m=\u001b[39m \u001b[38;5;28mself\u001b[39m\u001b[38;5;241m.\u001b[39m_validate_data(X, accept_sparse\u001b[38;5;241m=\u001b[39m[\u001b[38;5;124m\"\u001b[39m\u001b[38;5;124mcsr\u001b[39m\u001b[38;5;124m\"\u001b[39m, \u001b[38;5;124m\"\u001b[39m\u001b[38;5;124mcsc\u001b[39m\u001b[38;5;124m\"\u001b[39m, \u001b[38;5;124m\"\u001b[39m\u001b[38;5;124mcoo\u001b[39m\u001b[38;5;124m\"\u001b[39m], reset\u001b[38;5;241m=\u001b[39m\u001b[38;5;28;01mFalse\u001b[39;00m)\n\u001b[0;32m    370\u001b[0m     \u001b[38;5;28;01mreturn\u001b[39;00m safe_sparse_dot(X, \u001b[38;5;28mself\u001b[39m\u001b[38;5;241m.\u001b[39mcoef_\u001b[38;5;241m.\u001b[39mT, dense_output\u001b[38;5;241m=\u001b[39m\u001b[38;5;28;01mTrue\u001b[39;00m) \u001b[38;5;241m+\u001b[39m \u001b[38;5;28mself\u001b[39m\u001b[38;5;241m.\u001b[39mintercept_\n",
      "File \u001b[1;32m~\\anaconda3\\Lib\\site-packages\\sklearn\\base.py:625\u001b[0m, in \u001b[0;36mBaseEstimator._validate_data\u001b[1;34m(self, X, y, reset, validate_separately, cast_to_ndarray, **check_params)\u001b[0m\n\u001b[0;32m    622\u001b[0m     out \u001b[38;5;241m=\u001b[39m X, y\n\u001b[0;32m    624\u001b[0m \u001b[38;5;28;01mif\u001b[39;00m \u001b[38;5;129;01mnot\u001b[39;00m no_val_X \u001b[38;5;129;01mand\u001b[39;00m check_params\u001b[38;5;241m.\u001b[39mget(\u001b[38;5;124m\"\u001b[39m\u001b[38;5;124mensure_2d\u001b[39m\u001b[38;5;124m\"\u001b[39m, \u001b[38;5;28;01mTrue\u001b[39;00m):\n\u001b[1;32m--> 625\u001b[0m     \u001b[38;5;28mself\u001b[39m\u001b[38;5;241m.\u001b[39m_check_n_features(X, reset\u001b[38;5;241m=\u001b[39mreset)\n\u001b[0;32m    627\u001b[0m \u001b[38;5;28;01mreturn\u001b[39;00m out\n",
      "File \u001b[1;32m~\\anaconda3\\Lib\\site-packages\\sklearn\\base.py:414\u001b[0m, in \u001b[0;36mBaseEstimator._check_n_features\u001b[1;34m(self, X, reset)\u001b[0m\n\u001b[0;32m    411\u001b[0m     \u001b[38;5;28;01mreturn\u001b[39;00m\n\u001b[0;32m    413\u001b[0m \u001b[38;5;28;01mif\u001b[39;00m n_features \u001b[38;5;241m!=\u001b[39m \u001b[38;5;28mself\u001b[39m\u001b[38;5;241m.\u001b[39mn_features_in_:\n\u001b[1;32m--> 414\u001b[0m     \u001b[38;5;28;01mraise\u001b[39;00m \u001b[38;5;167;01mValueError\u001b[39;00m(\n\u001b[0;32m    415\u001b[0m         \u001b[38;5;124mf\u001b[39m\u001b[38;5;124m\"\u001b[39m\u001b[38;5;124mX has \u001b[39m\u001b[38;5;132;01m{\u001b[39;00mn_features\u001b[38;5;132;01m}\u001b[39;00m\u001b[38;5;124m features, but \u001b[39m\u001b[38;5;132;01m{\u001b[39;00m\u001b[38;5;28mself\u001b[39m\u001b[38;5;241m.\u001b[39m\u001b[38;5;18m__class__\u001b[39m\u001b[38;5;241m.\u001b[39m\u001b[38;5;18m__name__\u001b[39m\u001b[38;5;132;01m}\u001b[39;00m\u001b[38;5;124m \u001b[39m\u001b[38;5;124m\"\u001b[39m\n\u001b[0;32m    416\u001b[0m         \u001b[38;5;124mf\u001b[39m\u001b[38;5;124m\"\u001b[39m\u001b[38;5;124mis expecting \u001b[39m\u001b[38;5;132;01m{\u001b[39;00m\u001b[38;5;28mself\u001b[39m\u001b[38;5;241m.\u001b[39mn_features_in_\u001b[38;5;132;01m}\u001b[39;00m\u001b[38;5;124m features as input.\u001b[39m\u001b[38;5;124m\"\u001b[39m\n\u001b[0;32m    417\u001b[0m     )\n",
      "\u001b[1;31mValueError\u001b[0m: X has 10 features, but LinearRegression is expecting 165 features as input."
     ]
    }
   ],
   "source": [
    "from sklearn.preprocessing import PolynomialFeatures\n",
    "plr=PolynomialFeatures(degree=3)\n",
    "# 3.dereceden polinom \n",
    "x_pol=plr.fit_transform(x)\n",
    "\n",
    "lr_pol=LinearRegression()\n",
    "lr_pol.fit(x_pol,y)\n",
    "print(lr_pol.intercept_,lr_pol.coef_)\n",
    "\n",
    "xnew=plr.fit_transform(np.array([[80,22]]))\n",
    "y_pred_pol=lr_pol.predict(xnew)\n",
    "print(y_pred_pol)\n",
    "# sürekli hata aldım neden olduğunu anlamadım ."
   ]
  },
  {
   "cell_type": "code",
   "execution_count": 35,
   "id": "a043191f",
   "metadata": {},
   "outputs": [
    {
     "name": "stdout",
     "output_type": "stream",
     "text": [
      "Mean Absolute Error (MAE): 0.10515887515406007\n",
      "Mean Squared Error (MSE): 0.01808423333305918\n",
      "Mean Absolute Percentage Error (MAPE): 43.30996379814362%\n"
     ]
    }
   ],
   "source": [
    "import numpy as np\n",
    "from sklearn.metrics import mean_absolute_error, mean_squared_error\n",
    "\n",
    "y_pred_pol = lr_pol.predict(x_pol)  # Polinom regresyonu için tahminler \n",
    "\n",
    "# MAE için Hesaplama\n",
    "mae = mean_absolute_error(y, y_pred_pol)\n",
    "print(f\"Mean Absolute Error (MAE): {mae}\")\n",
    "\n",
    "# MSE için Hesaplama\n",
    "mse = mean_squared_error(y, y_pred_pol)\n",
    "print(f\"Mean Squared Error (MSE): {mse}\")\n",
    "\n",
    "# MAPE içimn hesaplama\n",
    "non_zero_mask = y != 0  # Gerçek değeri sıfır olmayan verileri seçtim\n",
    "mape = np.mean(np.abs((y[non_zero_mask] - y_pred_pol[non_zero_mask]) / y[non_zero_mask])) * 100\n",
    "print(f\"Mean Absolute Percentage Error (MAPE): {mape}%\")\n",
    "#mapede ZeroDivision error veriyor vermesin diye bu kodu böyle araştırıp düzenledim"
   ]
  },
  {
   "cell_type": "markdown",
   "id": "f43fed82",
   "metadata": {},
   "source": [
    "* bu değerler içinde mlr modeli en iyi sonucu gösteriyor . decision tree çok kötü perfomans gösteriyor negatif değerde perfomans gösteriyor.random forest olan model mlrden daha az performans gösteriyor. Bu durumda mlr en iyi modeldir."
   ]
  },
  {
   "cell_type": "code",
   "execution_count": null,
   "id": "2c4c8548",
   "metadata": {},
   "outputs": [],
   "source": []
  }
 ],
 "metadata": {
  "kernelspec": {
   "display_name": "Python 3 (ipykernel)",
   "language": "python",
   "name": "python3"
  },
  "language_info": {
   "codemirror_mode": {
    "name": "ipython",
    "version": 3
   },
   "file_extension": ".py",
   "mimetype": "text/x-python",
   "name": "python",
   "nbconvert_exporter": "python",
   "pygments_lexer": "ipython3",
   "version": "3.11.5"
  }
 },
 "nbformat": 4,
 "nbformat_minor": 5
}
